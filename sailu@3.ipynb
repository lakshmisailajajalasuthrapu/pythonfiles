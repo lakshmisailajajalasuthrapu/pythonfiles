{
 "cells": [
  {
   "cell_type": "markdown",
   "id": "6bb3e28e",
   "metadata": {},
   "source": [
    "## Introduction about data types"
   ]
  },
  {
   "cell_type": "code",
   "execution_count": null,
   "id": "41a4f42c",
   "metadata": {},
   "outputs": [],
   "source": [
    "1. Strings------------------------> str\n",
    "2. List---------------------------> list\n",
    "3. Tuple--------------------------> tuple\n",
    "4. Dictionary---------------------> dict\n",
    "5. Set----------------------------> set"
   ]
  },
  {
   "cell_type": "code",
   "execution_count": null,
   "id": "2dc49def",
   "metadata": {},
   "outputs": [],
   "source": [
    "STRINGS---------------------- IT IS A IMMUTABLE DATATYPE"
   ]
  },
  {
   "cell_type": "code",
   "execution_count": 1,
   "id": "6936b811",
   "metadata": {},
   "outputs": [],
   "source": [
    "name='sailaja jalasuthrapu'"
   ]
  },
  {
   "cell_type": "code",
   "execution_count": 2,
   "id": "68fada4f",
   "metadata": {},
   "outputs": [
    {
     "name": "stdout",
     "output_type": "stream",
     "text": [
      "sailaja jalasuthrapu\n"
     ]
    }
   ],
   "source": [
    "print(name)"
   ]
  },
  {
   "cell_type": "code",
   "execution_count": 3,
   "id": "3c673076",
   "metadata": {},
   "outputs": [
    {
     "data": {
      "text/plain": [
       "str"
      ]
     },
     "execution_count": 3,
     "metadata": {},
     "output_type": "execute_result"
    }
   ],
   "source": [
    "type(name)"
   ]
  },
  {
   "cell_type": "code",
   "execution_count": 11,
   "id": "18075c5a",
   "metadata": {},
   "outputs": [],
   "source": [
    "names='sailu,kishor'"
   ]
  },
  {
   "cell_type": "code",
   "execution_count": 12,
   "id": "14a500bd",
   "metadata": {},
   "outputs": [
    {
     "name": "stdout",
     "output_type": "stream",
     "text": [
      "Sailu,Kishor\n"
     ]
    }
   ],
   "source": [
    "print(names.title())"
   ]
  },
  {
   "cell_type": "code",
   "execution_count": 14,
   "id": "af371e4c",
   "metadata": {},
   "outputs": [
    {
     "name": "stdout",
     "output_type": "stream",
     "text": [
      "SAILU,KISHOR\n"
     ]
    }
   ],
   "source": [
    "print(names.upper())"
   ]
  },
  {
   "cell_type": "code",
   "execution_count": 15,
   "id": "73433bd8",
   "metadata": {},
   "outputs": [
    {
     "name": "stdout",
     "output_type": "stream",
     "text": [
      "sailu,kishor\n"
     ]
    }
   ],
   "source": [
    "print(names.lower())"
   ]
  },
  {
   "cell_type": "code",
   "execution_count": 16,
   "id": "222a7f3d",
   "metadata": {},
   "outputs": [
    {
     "name": "stdout",
     "output_type": "stream",
     "text": [
      "hii good afternoon all\n"
     ]
    }
   ],
   "source": [
    "print(\"hii good afternoon all\")"
   ]
  },
  {
   "cell_type": "code",
   "execution_count": null,
   "id": "eb0989ef",
   "metadata": {},
   "outputs": [],
   "source": []
  },
  {
   "cell_type": "code",
   "execution_count": null,
   "id": "4792b9d1",
   "metadata": {},
   "outputs": [],
   "source": [
    "## fstrings"
   ]
  },
  {
   "cell_type": "code",
   "execution_count": null,
   "id": "b0d42b24",
   "metadata": {},
   "outputs": [],
   "source": [
    "fstrings-----------------> formated strings ( used to join the lines)"
   ]
  },
  {
   "cell_type": "code",
   "execution_count": 19,
   "id": "c608c4b3",
   "metadata": {},
   "outputs": [],
   "source": [
    "first_name=\"jalasuthrapu\"\n",
    "last_name=\"lakshmi sailaja\""
   ]
  },
  {
   "cell_type": "code",
   "execution_count": 28,
   "id": "b130dfb4",
   "metadata": {},
   "outputs": [],
   "source": [
    "full_name=f\"{first_name} {last_name}\""
   ]
  },
  {
   "cell_type": "code",
   "execution_count": 29,
   "id": "f1411ba3",
   "metadata": {},
   "outputs": [
    {
     "name": "stdout",
     "output_type": "stream",
     "text": [
      "jalasuthrapu lakshmi sailaja\n"
     ]
    }
   ],
   "source": [
    "print(full_name)"
   ]
  },
  {
   "cell_type": "code",
   "execution_count": 30,
   "id": "4c1ce881",
   "metadata": {},
   "outputs": [
    {
     "name": "stdout",
     "output_type": "stream",
     "text": [
      "JALASUTHRAPU LAKSHMI SAILAJA\n"
     ]
    }
   ],
   "source": [
    "print(full_name.upper())"
   ]
  },
  {
   "cell_type": "code",
   "execution_count": 31,
   "id": "ea4ace2d",
   "metadata": {},
   "outputs": [
    {
     "name": "stdout",
     "output_type": "stream",
     "text": [
      "Jalasuthrapu Lakshmi Sailaja\n"
     ]
    }
   ],
   "source": [
    "print(full_name.title())"
   ]
  },
  {
   "cell_type": "code",
   "execution_count": 32,
   "id": "d5238db6",
   "metadata": {},
   "outputs": [],
   "source": [
    "first_name=\"jani basha\"\n",
    "last_name=\"shaik\""
   ]
  },
  {
   "cell_type": "code",
   "execution_count": 33,
   "id": "cf3cc072",
   "metadata": {},
   "outputs": [],
   "source": [
    "full_name=f\"{first_name} {last_name}\""
   ]
  },
  {
   "cell_type": "code",
   "execution_count": 34,
   "id": "1c53715f",
   "metadata": {},
   "outputs": [
    {
     "name": "stdout",
     "output_type": "stream",
     "text": [
      "jani basha shaik\n"
     ]
    }
   ],
   "source": [
    "print(full_name)"
   ]
  },
  {
   "cell_type": "code",
   "execution_count": 35,
   "id": "822f9e1a",
   "metadata": {},
   "outputs": [
    {
     "name": "stdout",
     "output_type": "stream",
     "text": [
      "Jani Basha Shaik\n"
     ]
    }
   ],
   "source": [
    "print(full_name.title())"
   ]
  },
  {
   "cell_type": "code",
   "execution_count": 36,
   "id": "443660c8",
   "metadata": {},
   "outputs": [
    {
     "name": "stdout",
     "output_type": "stream",
     "text": [
      "JANI BASHA SHAIK\n"
     ]
    }
   ],
   "source": [
    "print(full_name.upper())"
   ]
  },
  {
   "cell_type": "code",
   "execution_count": 37,
   "id": "7c728e10",
   "metadata": {},
   "outputs": [],
   "source": [
    "first_name=\"srilakshmi\"\n",
    "last_name=\"maduri\""
   ]
  },
  {
   "cell_type": "code",
   "execution_count": 38,
   "id": "ab2e69a8",
   "metadata": {},
   "outputs": [],
   "source": [
    "full_name=f\"{first_name} {last_name}\""
   ]
  },
  {
   "cell_type": "code",
   "execution_count": 39,
   "id": "a0860530",
   "metadata": {},
   "outputs": [
    {
     "name": "stdout",
     "output_type": "stream",
     "text": [
      "Srilakshmi Maduri\n"
     ]
    }
   ],
   "source": [
    "print(full_name.title())"
   ]
  },
  {
   "cell_type": "code",
   "execution_count": 40,
   "id": "49f0800d",
   "metadata": {},
   "outputs": [
    {
     "name": "stdout",
     "output_type": "stream",
     "text": [
      "SRILAKSHMI MADURI\n"
     ]
    }
   ],
   "source": [
    "print(full_name.upper())"
   ]
  },
  {
   "cell_type": "code",
   "execution_count": 41,
   "id": "ea44fbb7",
   "metadata": {},
   "outputs": [
    {
     "name": "stdout",
     "output_type": "stream",
     "text": [
      "srilakshmi maduri\n"
     ]
    }
   ],
   "source": [
    "print(full_name.lower())"
   ]
  },
  {
   "cell_type": "code",
   "execution_count": 42,
   "id": "67d60c27",
   "metadata": {},
   "outputs": [
    {
     "data": {
      "text/plain": [
       "str"
      ]
     },
     "execution_count": 42,
     "metadata": {},
     "output_type": "execute_result"
    }
   ],
   "source": [
    "type(full_name)"
   ]
  },
  {
   "cell_type": "code",
   "execution_count": null,
   "id": "9f2693b0",
   "metadata": {},
   "outputs": [],
   "source": [
    "## Adding white spaces"
   ]
  },
  {
   "cell_type": "code",
   "execution_count": 43,
   "id": "9d5ac22c",
   "metadata": {},
   "outputs": [
    {
     "name": "stdout",
     "output_type": "stream",
     "text": [
      "srilakshmi maduri\n"
     ]
    }
   ],
   "source": [
    "print(full_name)"
   ]
  },
  {
   "cell_type": "code",
   "execution_count": 44,
   "id": "8c82da29",
   "metadata": {},
   "outputs": [
    {
     "name": "stdout",
     "output_type": "stream",
     "text": [
      "srilakshmi maduri\n"
     ]
    }
   ],
   "source": [
    "print(    full_name)"
   ]
  },
  {
   "cell_type": "code",
   "execution_count": 45,
   "id": "0aa673f0",
   "metadata": {},
   "outputs": [
    {
     "name": "stdout",
     "output_type": "stream",
     "text": [
      "kartheeka deepam\n"
     ]
    }
   ],
   "source": [
    "print('kartheeka deepam')"
   ]
  },
  {
   "cell_type": "code",
   "execution_count": 46,
   "id": "87d87e89",
   "metadata": {},
   "outputs": [
    {
     "name": "stdout",
     "output_type": "stream",
     "text": [
      "     kartheeka deepam\n"
     ]
    }
   ],
   "source": [
    "print('     kartheeka deepam')"
   ]
  },
  {
   "cell_type": "code",
   "execution_count": 47,
   "id": "990587e3",
   "metadata": {},
   "outputs": [
    {
     "name": "stdout",
     "output_type": "stream",
     "text": [
      "\tkartheeka deepam\n"
     ]
    }
   ],
   "source": [
    "print('\\tkartheeka deepam')          \\t------> tab delimeter is going to give 8 whitespaces"
   ]
  },
  {
   "cell_type": "code",
   "execution_count": 48,
   "id": "0251c2cb",
   "metadata": {},
   "outputs": [
    {
     "name": "stdout",
     "output_type": "stream",
     "text": [
      "food:\n",
      "chocolate\n",
      "cake\n",
      "pappu\n",
      "icecream\n"
     ]
    }
   ],
   "source": [
    "print('food:\\nchocolate\\ncake\\npappu\\nicecream')"
   ]
  },
  {
   "cell_type": "code",
   "execution_count": 50,
   "id": "ff0ca3a4",
   "metadata": {},
   "outputs": [
    {
     "name": "stdout",
     "output_type": "stream",
     "text": [
      "languages:\n",
      "\tpython\n",
      "\tsql\n",
      "\tjava\n",
      "\tjavasript\n",
      "\tangular\n"
     ]
    }
   ],
   "source": [
    "print('languages:\\n\\tpython\\n\\tsql\\n\\tjava\\n\\tjavasript\\n\\tangular')        \\n---------> new line delimeter"
   ]
  },
  {
   "cell_type": "code",
   "execution_count": 51,
   "id": "54b43537",
   "metadata": {},
   "outputs": [
    {
     "name": "stdout",
     "output_type": "stream",
     "text": [
      "items:biriyani,parota,kheera,gulabjam\n"
     ]
    }
   ],
   "source": [
    "print('items:biriyani,parota,kheera,gulabjam')"
   ]
  },
  {
   "cell_type": "code",
   "execution_count": 52,
   "id": "739e90c1",
   "metadata": {},
   "outputs": [],
   "source": [
    "fav_lang=\"          python\""
   ]
  },
  {
   "cell_type": "code",
   "execution_count": 53,
   "id": "2f5ecd83",
   "metadata": {},
   "outputs": [
    {
     "name": "stdout",
     "output_type": "stream",
     "text": [
      "          python\n"
     ]
    }
   ],
   "source": [
    "print(fav_lang)"
   ]
  },
  {
   "cell_type": "code",
   "execution_count": null,
   "id": "afd2bb3a",
   "metadata": {},
   "outputs": [],
   "source": [
    "stripping---------------> adding or deleting spaces\n",
    "1. left stripping------ lstrip()\n",
    "2. right stripping----- rstrip()"
   ]
  },
  {
   "cell_type": "code",
   "execution_count": 54,
   "id": "0b66288e",
   "metadata": {},
   "outputs": [
    {
     "name": "stdout",
     "output_type": "stream",
     "text": [
      "python\n"
     ]
    }
   ],
   "source": [
    "print(fav_lang.lstrip())"
   ]
  },
  {
   "cell_type": "code",
   "execution_count": 55,
   "id": "4f7ac213",
   "metadata": {},
   "outputs": [
    {
     "name": "stdout",
     "output_type": "stream",
     "text": [
      "          python\n"
     ]
    }
   ],
   "source": [
    "print(fav_lang.rstrip())"
   ]
  },
  {
   "cell_type": "code",
   "execution_count": 56,
   "id": "561056da",
   "metadata": {},
   "outputs": [
    {
     "data": {
      "text/plain": [
       "9"
      ]
     },
     "execution_count": 56,
     "metadata": {},
     "output_type": "execute_result"
    }
   ],
   "source": [
    "4+5"
   ]
  },
  {
   "cell_type": "code",
   "execution_count": 57,
   "id": "3b69f17a",
   "metadata": {},
   "outputs": [
    {
     "data": {
      "text/plain": [
       "212"
      ]
     },
     "execution_count": 57,
     "metadata": {},
     "output_type": "execute_result"
    }
   ],
   "source": [
    "108+104"
   ]
  },
  {
   "cell_type": "code",
   "execution_count": 58,
   "id": "08b26e8e",
   "metadata": {},
   "outputs": [
    {
     "data": {
      "text/plain": [
       "19292370"
      ]
     },
     "execution_count": 58,
     "metadata": {},
     "output_type": "execute_result"
    }
   ],
   "source": [
    "101149+19191221"
   ]
  },
  {
   "cell_type": "code",
   "execution_count": 59,
   "id": "88ba560a",
   "metadata": {},
   "outputs": [
    {
     "data": {
      "text/plain": [
       "125"
      ]
     },
     "execution_count": 59,
     "metadata": {},
     "output_type": "execute_result"
    }
   ],
   "source": [
    "5**3"
   ]
  },
  {
   "cell_type": "code",
   "execution_count": 60,
   "id": "32be661e",
   "metadata": {},
   "outputs": [
    {
     "data": {
      "text/plain": [
       "121"
      ]
     },
     "execution_count": 60,
     "metadata": {},
     "output_type": "execute_result"
    }
   ],
   "source": [
    "11**2"
   ]
  },
  {
   "cell_type": "code",
   "execution_count": 61,
   "id": "b8bda64c",
   "metadata": {},
   "outputs": [
    {
     "data": {
      "text/plain": [
       "592240896"
      ]
     },
     "execution_count": 61,
     "metadata": {},
     "output_type": "execute_result"
    }
   ],
   "source": [
    "156**4"
   ]
  },
  {
   "cell_type": "code",
   "execution_count": 62,
   "id": "90b2ff32",
   "metadata": {},
   "outputs": [],
   "source": [
    "s=10+9"
   ]
  },
  {
   "cell_type": "code",
   "execution_count": 64,
   "id": "040db646",
   "metadata": {},
   "outputs": [
    {
     "data": {
      "text/plain": [
       "int"
      ]
     },
     "execution_count": 64,
     "metadata": {},
     "output_type": "execute_result"
    }
   ],
   "source": [
    "type(s)"
   ]
  },
  {
   "cell_type": "code",
   "execution_count": null,
   "id": "f71a50c8",
   "metadata": {},
   "outputs": [],
   "source": [
    "## float"
   ]
  },
  {
   "cell_type": "code",
   "execution_count": 65,
   "id": "c676d2ee",
   "metadata": {},
   "outputs": [],
   "source": [
    "s=9.5+9.5"
   ]
  },
  {
   "cell_type": "code",
   "execution_count": 66,
   "id": "69dfec2e",
   "metadata": {},
   "outputs": [
    {
     "data": {
      "text/plain": [
       "float"
      ]
     },
     "execution_count": 66,
     "metadata": {},
     "output_type": "execute_result"
    }
   ],
   "source": [
    "type(s)"
   ]
  },
  {
   "cell_type": "code",
   "execution_count": 67,
   "id": "3c45cfe9",
   "metadata": {},
   "outputs": [],
   "source": [
    "f=16+5.4"
   ]
  },
  {
   "cell_type": "code",
   "execution_count": 68,
   "id": "c24d353a",
   "metadata": {},
   "outputs": [
    {
     "data": {
      "text/plain": [
       "float"
      ]
     },
     "execution_count": 68,
     "metadata": {},
     "output_type": "execute_result"
    }
   ],
   "source": [
    "type(f)"
   ]
  },
  {
   "cell_type": "code",
   "execution_count": 69,
   "id": "d44ddadc",
   "metadata": {},
   "outputs": [],
   "source": [
    "x,y,z=1,2,3"
   ]
  },
  {
   "cell_type": "code",
   "execution_count": 70,
   "id": "2e5c5d7a",
   "metadata": {},
   "outputs": [
    {
     "name": "stdout",
     "output_type": "stream",
     "text": [
      "1 2 3\n"
     ]
    }
   ],
   "source": [
    "print(x,y,z)"
   ]
  },
  {
   "cell_type": "code",
   "execution_count": null,
   "id": "957c9298",
   "metadata": {},
   "outputs": [],
   "source": []
  },
  {
   "cell_type": "code",
   "execution_count": null,
   "id": "ef24a51d",
   "metadata": {},
   "outputs": [],
   "source": [
    "LIST------------> group of elements\n",
    "list is always declare in []\n",
    "list is a mutable datatype"
   ]
  },
  {
   "cell_type": "code",
   "execution_count": 71,
   "id": "7447210f",
   "metadata": {},
   "outputs": [],
   "source": [
    "family=['sailu','kishor','seethamma','venkata rao']"
   ]
  },
  {
   "cell_type": "code",
   "execution_count": 72,
   "id": "e752c6fb",
   "metadata": {},
   "outputs": [
    {
     "name": "stdout",
     "output_type": "stream",
     "text": [
      "['sailu', 'kishor', 'seethamma', 'venkata rao']\n"
     ]
    }
   ],
   "source": [
    "print(family)"
   ]
  },
  {
   "cell_type": "code",
   "execution_count": 74,
   "id": "512e0f36",
   "metadata": {},
   "outputs": [
    {
     "data": {
      "text/plain": [
       "list"
      ]
     },
     "execution_count": 74,
     "metadata": {},
     "output_type": "execute_result"
    }
   ],
   "source": [
    "type(family)"
   ]
  },
  {
   "cell_type": "code",
   "execution_count": 76,
   "id": "464f8e6f",
   "metadata": {},
   "outputs": [],
   "source": [
    "dipfriends=['sailu','dileep','jani']"
   ]
  },
  {
   "cell_type": "code",
   "execution_count": 77,
   "id": "00d44c72",
   "metadata": {},
   "outputs": [
    {
     "name": "stdout",
     "output_type": "stream",
     "text": [
      "['sailu', 'dileep', 'jani']\n"
     ]
    }
   ],
   "source": [
    "print(dipfriends)"
   ]
  },
  {
   "cell_type": "code",
   "execution_count": 78,
   "id": "b21953bc",
   "metadata": {},
   "outputs": [],
   "source": [
    "btechfriends=['sailu','sri','divya','venky','radhika','jyoth']"
   ]
  },
  {
   "cell_type": "code",
   "execution_count": 79,
   "id": "58919458",
   "metadata": {},
   "outputs": [
    {
     "name": "stdout",
     "output_type": "stream",
     "text": [
      "['sailu', 'sri', 'divya', 'venky', 'radhika', 'jyoth']\n"
     ]
    }
   ],
   "source": [
    "print(btechfriends)"
   ]
  },
  {
   "cell_type": "code",
   "execution_count": 80,
   "id": "75a5564f",
   "metadata": {},
   "outputs": [
    {
     "name": "stdout",
     "output_type": "stream",
     "text": [
      "venky\n"
     ]
    }
   ],
   "source": [
    "print(btechfriends[3])"
   ]
  },
  {
   "cell_type": "code",
   "execution_count": 81,
   "id": "8a32e612",
   "metadata": {},
   "outputs": [
    {
     "name": "stdout",
     "output_type": "stream",
     "text": [
      "jani\n"
     ]
    }
   ],
   "source": [
    "print(dipfriends[2])"
   ]
  },
  {
   "cell_type": "code",
   "execution_count": 82,
   "id": "a567562d",
   "metadata": {},
   "outputs": [
    {
     "name": "stdout",
     "output_type": "stream",
     "text": [
      "sailu\n"
     ]
    }
   ],
   "source": [
    "print(family[0])"
   ]
  },
  {
   "cell_type": "code",
   "execution_count": 83,
   "id": "83ea02b1",
   "metadata": {},
   "outputs": [
    {
     "name": "stdout",
     "output_type": "stream",
     "text": [
      "sri\n"
     ]
    }
   ],
   "source": [
    "print(btechfriends[1])"
   ]
  },
  {
   "cell_type": "code",
   "execution_count": null,
   "id": "e300ee35",
   "metadata": {},
   "outputs": [],
   "source": []
  },
  {
   "cell_type": "code",
   "execution_count": null,
   "id": "e843381c",
   "metadata": {},
   "outputs": [],
   "source": [
    "##adding of elements to list\n",
    "\n",
    "uses     append\n",
    "         add\n",
    "         insert"
   ]
  },
  {
   "cell_type": "code",
   "execution_count": 84,
   "id": "0c0c9854",
   "metadata": {},
   "outputs": [],
   "source": [
    "allfrnds=['saidabi','prameela','anusha','dileep','jani','sri','venky']"
   ]
  },
  {
   "cell_type": "code",
   "execution_count": 85,
   "id": "d318c0c6",
   "metadata": {},
   "outputs": [
    {
     "name": "stdout",
     "output_type": "stream",
     "text": [
      "['saidabi', 'prameela', 'anusha', 'dileep', 'jani', 'sri', 'venky']\n"
     ]
    }
   ],
   "source": [
    "print(allfrnds)"
   ]
  },
  {
   "cell_type": "code",
   "execution_count": 86,
   "id": "b94aadec",
   "metadata": {},
   "outputs": [],
   "source": [
    "allfrnds.append('divya')"
   ]
  },
  {
   "cell_type": "code",
   "execution_count": 87,
   "id": "0cb7b1f9",
   "metadata": {},
   "outputs": [
    {
     "name": "stdout",
     "output_type": "stream",
     "text": [
      "['saidabi', 'prameela', 'anusha', 'dileep', 'jani', 'sri', 'venky', 'divya']\n"
     ]
    }
   ],
   "source": [
    "print(allfrnds)"
   ]
  },
  {
   "cell_type": "code",
   "execution_count": 88,
   "id": "effae4d2",
   "metadata": {},
   "outputs": [],
   "source": [
    "allfrnds.insert(6,'radhika')"
   ]
  },
  {
   "cell_type": "code",
   "execution_count": 89,
   "id": "375472cd",
   "metadata": {},
   "outputs": [
    {
     "name": "stdout",
     "output_type": "stream",
     "text": [
      "['saidabi', 'prameela', 'anusha', 'dileep', 'jani', 'sri', 'radhika', 'venky', 'divya']\n"
     ]
    }
   ],
   "source": [
    "print(allfrnds)"
   ]
  },
  {
   "cell_type": "code",
   "execution_count": null,
   "id": "70ab8464",
   "metadata": {},
   "outputs": [],
   "source": [
    "## updating the elements to list               replacing the elements"
   ]
  },
  {
   "cell_type": "code",
   "execution_count": 90,
   "id": "bf27537f",
   "metadata": {},
   "outputs": [],
   "source": [
    "allfrnds[7]='sravani'"
   ]
  },
  {
   "cell_type": "code",
   "execution_count": 91,
   "id": "ab3cb31c",
   "metadata": {},
   "outputs": [
    {
     "name": "stdout",
     "output_type": "stream",
     "text": [
      "['saidabi', 'prameela', 'anusha', 'dileep', 'jani', 'sri', 'radhika', 'sravani', 'divya']\n"
     ]
    }
   ],
   "source": [
    "print(allfrnds)"
   ]
  },
  {
   "cell_type": "code",
   "execution_count": 92,
   "id": "d663f407",
   "metadata": {},
   "outputs": [
    {
     "data": {
      "text/plain": [
       "9"
      ]
     },
     "execution_count": 92,
     "metadata": {},
     "output_type": "execute_result"
    }
   ],
   "source": [
    "len(allfrnds)"
   ]
  },
  {
   "cell_type": "code",
   "execution_count": null,
   "id": "9040fd04",
   "metadata": {},
   "outputs": [],
   "source": [
    "## deleting the elements from the list\n",
    "\n",
    "uses        delete\n",
    "            pop"
   ]
  },
  {
   "cell_type": "code",
   "execution_count": 93,
   "id": "6aec976e",
   "metadata": {},
   "outputs": [
    {
     "name": "stdout",
     "output_type": "stream",
     "text": [
      "['saidabi', 'prameela', 'anusha', 'dileep', 'jani', 'sri', 'radhika', 'sravani', 'divya']\n"
     ]
    }
   ],
   "source": [
    "print(allfrnds)"
   ]
  },
  {
   "cell_type": "code",
   "execution_count": 94,
   "id": "69a3ecdd",
   "metadata": {},
   "outputs": [
    {
     "data": {
      "text/plain": [
       "'anusha'"
      ]
     },
     "execution_count": 94,
     "metadata": {},
     "output_type": "execute_result"
    }
   ],
   "source": [
    "allfrnds.pop(2)"
   ]
  },
  {
   "cell_type": "code",
   "execution_count": 95,
   "id": "c83b870f",
   "metadata": {},
   "outputs": [
    {
     "name": "stdout",
     "output_type": "stream",
     "text": [
      "['saidabi', 'prameela', 'dileep', 'jani', 'sri', 'radhika', 'sravani', 'divya']\n"
     ]
    }
   ],
   "source": [
    "print(allfrnds)"
   ]
  },
  {
   "cell_type": "code",
   "execution_count": 96,
   "id": "62df20d9",
   "metadata": {},
   "outputs": [
    {
     "data": {
      "text/plain": [
       "8"
      ]
     },
     "execution_count": 96,
     "metadata": {},
     "output_type": "execute_result"
    }
   ],
   "source": [
    "len(allfrnds)"
   ]
  },
  {
   "cell_type": "code",
   "execution_count": null,
   "id": "83fe8dcd",
   "metadata": {},
   "outputs": [],
   "source": [
    "## organizing a list "
   ]
  },
  {
   "cell_type": "code",
   "execution_count": null,
   "id": "31b143ac",
   "metadata": {},
   "outputs": [],
   "source": [
    "allfrnds.sort()"
   ]
  },
  {
   "cell_type": "code",
   "execution_count": 97,
   "id": "95e49f08",
   "metadata": {},
   "outputs": [
    {
     "name": "stdout",
     "output_type": "stream",
     "text": [
      "['saidabi', 'prameela', 'dileep', 'jani', 'sri', 'radhika', 'sravani', 'divya']\n"
     ]
    }
   ],
   "source": [
    "print(allfrnds)"
   ]
  },
  {
   "cell_type": "code",
   "execution_count": 98,
   "id": "02f135aa",
   "metadata": {},
   "outputs": [],
   "source": [
    "foods=['cake','chocolate','icecream','laddu','cooldrink','maaza','rice','dal','lemonrice','curd']"
   ]
  },
  {
   "cell_type": "code",
   "execution_count": 99,
   "id": "fe6d1bc1",
   "metadata": {},
   "outputs": [
    {
     "name": "stdout",
     "output_type": "stream",
     "text": [
      "['cake', 'chocolate', 'icecream', 'laddu', 'cooldrink', 'maaza', 'rice', 'dal', 'lemonrice', 'curd']\n"
     ]
    }
   ],
   "source": [
    "print(foods)"
   ]
  },
  {
   "cell_type": "code",
   "execution_count": 100,
   "id": "712533a6",
   "metadata": {},
   "outputs": [
    {
     "data": {
      "text/plain": [
       "10"
      ]
     },
     "execution_count": 100,
     "metadata": {},
     "output_type": "execute_result"
    }
   ],
   "source": [
    "len(foods)"
   ]
  },
  {
   "cell_type": "code",
   "execution_count": 101,
   "id": "3a2cb022",
   "metadata": {},
   "outputs": [],
   "source": [
    "foods.sort()"
   ]
  },
  {
   "cell_type": "code",
   "execution_count": 102,
   "id": "469c90c8",
   "metadata": {},
   "outputs": [
    {
     "name": "stdout",
     "output_type": "stream",
     "text": [
      "['cake', 'chocolate', 'cooldrink', 'curd', 'dal', 'icecream', 'laddu', 'lemonrice', 'maaza', 'rice']\n"
     ]
    }
   ],
   "source": [
    "print(foods)"
   ]
  },
  {
   "cell_type": "code",
   "execution_count": null,
   "id": "06bd8eaf",
   "metadata": {},
   "outputs": [],
   "source": [
    "## reverse the list "
   ]
  },
  {
   "cell_type": "code",
   "execution_count": 103,
   "id": "b733f471",
   "metadata": {},
   "outputs": [
    {
     "name": "stdout",
     "output_type": "stream",
     "text": [
      "['saidabi', 'prameela', 'dileep', 'jani', 'sri', 'radhika', 'sravani', 'divya']\n"
     ]
    }
   ],
   "source": [
    "print(allfrnds)"
   ]
  },
  {
   "cell_type": "code",
   "execution_count": 104,
   "id": "dd6878bb",
   "metadata": {},
   "outputs": [],
   "source": [
    "allfrnds.reverse()"
   ]
  },
  {
   "cell_type": "code",
   "execution_count": 105,
   "id": "f979ad2c",
   "metadata": {},
   "outputs": [
    {
     "name": "stdout",
     "output_type": "stream",
     "text": [
      "['divya', 'sravani', 'radhika', 'sri', 'jani', 'dileep', 'prameela', 'saidabi']\n"
     ]
    }
   ],
   "source": [
    "print(allfrnds)"
   ]
  },
  {
   "cell_type": "code",
   "execution_count": 106,
   "id": "2e21239b",
   "metadata": {},
   "outputs": [
    {
     "name": "stdout",
     "output_type": "stream",
     "text": [
      "['cake', 'chocolate', 'cooldrink', 'curd', 'dal', 'icecream', 'laddu', 'lemonrice', 'maaza', 'rice']\n"
     ]
    }
   ],
   "source": [
    "print(foods)"
   ]
  },
  {
   "cell_type": "code",
   "execution_count": 107,
   "id": "47e0ce50",
   "metadata": {},
   "outputs": [],
   "source": [
    "foods.reverse()"
   ]
  },
  {
   "cell_type": "code",
   "execution_count": 108,
   "id": "4dd07501",
   "metadata": {},
   "outputs": [
    {
     "name": "stdout",
     "output_type": "stream",
     "text": [
      "['rice', 'maaza', 'lemonrice', 'laddu', 'icecream', 'dal', 'curd', 'cooldrink', 'chocolate', 'cake']\n"
     ]
    }
   ],
   "source": [
    "print(foods)"
   ]
  },
  {
   "cell_type": "code",
   "execution_count": null,
   "id": "47ed2ce2",
   "metadata": {},
   "outputs": [],
   "source": [
    "## copy of list"
   ]
  },
  {
   "cell_type": "code",
   "execution_count": 109,
   "id": "e95908e0",
   "metadata": {},
   "outputs": [
    {
     "name": "stdout",
     "output_type": "stream",
     "text": [
      "['sailu', 'dileep', 'jani']\n"
     ]
    }
   ],
   "source": [
    "print(dipfriends)"
   ]
  },
  {
   "cell_type": "code",
   "execution_count": 110,
   "id": "34dc442b",
   "metadata": {},
   "outputs": [
    {
     "name": "stdout",
     "output_type": "stream",
     "text": [
      "['divya', 'sravani', 'radhika', 'sri', 'jani', 'dileep', 'prameela', 'saidabi']\n"
     ]
    }
   ],
   "source": [
    "print(allfrnds)"
   ]
  },
  {
   "cell_type": "code",
   "execution_count": 111,
   "id": "388f47a2",
   "metadata": {},
   "outputs": [],
   "source": [
    "dipfriends=allfrnds[:]"
   ]
  },
  {
   "cell_type": "code",
   "execution_count": 113,
   "id": "f3e666f6",
   "metadata": {},
   "outputs": [
    {
     "name": "stdout",
     "output_type": "stream",
     "text": [
      "['divya', 'sravani', 'radhika', 'sri', 'jani', 'dileep', 'prameela', 'saidabi']\n"
     ]
    }
   ],
   "source": [
    "print(dipfriends)"
   ]
  },
  {
   "cell_type": "code",
   "execution_count": null,
   "id": "d2c7d723",
   "metadata": {},
   "outputs": [],
   "source": [
    "## negative index"
   ]
  },
  {
   "cell_type": "code",
   "execution_count": 114,
   "id": "bce5559b",
   "metadata": {},
   "outputs": [
    {
     "name": "stdout",
     "output_type": "stream",
     "text": [
      "['rice', 'maaza', 'lemonrice', 'laddu', 'icecream', 'dal', 'curd', 'cooldrink', 'chocolate', 'cake']\n"
     ]
    }
   ],
   "source": [
    "print(foods)"
   ]
  },
  {
   "cell_type": "code",
   "execution_count": 115,
   "id": "fe57bda5",
   "metadata": {},
   "outputs": [
    {
     "name": "stdout",
     "output_type": "stream",
     "text": [
      "dal\n"
     ]
    }
   ],
   "source": [
    "print(foods[-5])"
   ]
  },
  {
   "cell_type": "code",
   "execution_count": 116,
   "id": "e04bda82",
   "metadata": {},
   "outputs": [
    {
     "name": "stdout",
     "output_type": "stream",
     "text": [
      "Icecream\n"
     ]
    }
   ],
   "source": [
    "print(foods[-6].title())"
   ]
  },
  {
   "cell_type": "code",
   "execution_count": 117,
   "id": "d4d9a695",
   "metadata": {},
   "outputs": [
    {
     "data": {
      "text/plain": [
       "10"
      ]
     },
     "execution_count": 117,
     "metadata": {},
     "output_type": "execute_result"
    }
   ],
   "source": [
    "len(foods)"
   ]
  },
  {
   "cell_type": "code",
   "execution_count": null,
   "id": "ce54f348",
   "metadata": {},
   "outputs": [],
   "source": [
    "## slicing of the list ----------------> creating a team of required elements"
   ]
  },
  {
   "cell_type": "code",
   "execution_count": 118,
   "id": "dbcf7e53",
   "metadata": {},
   "outputs": [
    {
     "name": "stdout",
     "output_type": "stream",
     "text": [
      "['rice', 'maaza', 'lemonrice', 'laddu']\n"
     ]
    }
   ],
   "source": [
    "print(foods[0:4])"
   ]
  },
  {
   "cell_type": "code",
   "execution_count": 119,
   "id": "84dae059",
   "metadata": {},
   "outputs": [
    {
     "name": "stdout",
     "output_type": "stream",
     "text": [
      "['laddu', 'icecream', 'dal', 'curd', 'cooldrink', 'chocolate', 'cake']\n"
     ]
    }
   ],
   "source": [
    "print(foods[3:10])"
   ]
  },
  {
   "cell_type": "code",
   "execution_count": null,
   "id": "0a817e50",
   "metadata": {},
   "outputs": [],
   "source": []
  }
 ],
 "metadata": {
  "kernelspec": {
   "display_name": "Python 3",
   "language": "python",
   "name": "python3"
  },
  "language_info": {
   "codemirror_mode": {
    "name": "ipython",
    "version": 3
   },
   "file_extension": ".py",
   "mimetype": "text/x-python",
   "name": "python",
   "nbconvert_exporter": "python",
   "pygments_lexer": "ipython3",
   "version": "3.8.8"
  }
 },
 "nbformat": 4,
 "nbformat_minor": 5
}
