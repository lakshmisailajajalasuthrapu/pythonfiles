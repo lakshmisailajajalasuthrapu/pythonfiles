{
 "cells": [
  {
   "cell_type": "markdown",
   "id": "664885bd",
   "metadata": {},
   "source": [
    "## variables "
   ]
  },
  {
   "cell_type": "code",
   "execution_count": 1,
   "id": "e5b59830",
   "metadata": {},
   "outputs": [],
   "source": [
    "full_name='lakshmi sailaja'"
   ]
  },
  {
   "cell_type": "code",
   "execution_count": 2,
   "id": "ec57d3a7",
   "metadata": {},
   "outputs": [
    {
     "name": "stdout",
     "output_type": "stream",
     "text": [
      "lakshmi sailaja\n"
     ]
    }
   ],
   "source": [
    "print(full_name)"
   ]
  },
  {
   "cell_type": "code",
   "execution_count": 3,
   "id": "44ab6fc1",
   "metadata": {},
   "outputs": [
    {
     "ename": "SyntaxError",
     "evalue": "invalid syntax (<ipython-input-3-13fb897f154e>, line 1)",
     "output_type": "error",
     "traceback": [
      "\u001b[1;36m  File \u001b[1;32m\"<ipython-input-3-13fb897f154e>\"\u001b[1;36m, line \u001b[1;32m1\u001b[0m\n\u001b[1;33m    full name='sailu@1019'\u001b[0m\n\u001b[1;37m         ^\u001b[0m\n\u001b[1;31mSyntaxError\u001b[0m\u001b[1;31m:\u001b[0m invalid syntax\n"
     ]
    }
   ],
   "source": [
    "full name='sailu@1019'"
   ]
  },
  {
   "cell_type": "code",
   "execution_count": 4,
   "id": "7afd16ff",
   "metadata": {},
   "outputs": [],
   "source": [
    "names='sailu,sri'"
   ]
  },
  {
   "cell_type": "code",
   "execution_count": 5,
   "id": "8a16ee7a",
   "metadata": {},
   "outputs": [
    {
     "name": "stdout",
     "output_type": "stream",
     "text": [
      "sailu,sri\n"
     ]
    }
   ],
   "source": [
    "print(names)"
   ]
  },
  {
   "cell_type": "code",
   "execution_count": 6,
   "id": "058eac15",
   "metadata": {},
   "outputs": [
    {
     "ename": "SyntaxError",
     "evalue": "invalid syntax (<ipython-input-6-4af05cd64667>, line 1)",
     "output_type": "error",
     "traceback": [
      "\u001b[1;36m  File \u001b[1;32m\"<ipython-input-6-4af05cd64667>\"\u001b[1;36m, line \u001b[1;32m1\u001b[0m\n\u001b[1;33m    2names='sailu,sri'\u001b[0m\n\u001b[1;37m     ^\u001b[0m\n\u001b[1;31mSyntaxError\u001b[0m\u001b[1;31m:\u001b[0m invalid syntax\n"
     ]
    }
   ],
   "source": [
    "2names='sailu,sri'"
   ]
  },
  {
   "cell_type": "code",
   "execution_count": 7,
   "id": "83f825f3",
   "metadata": {},
   "outputs": [
    {
     "ename": "SyntaxError",
     "evalue": "invalid syntax (<ipython-input-7-a29b740b2aeb>, line 1)",
     "output_type": "error",
     "traceback": [
      "\u001b[1;36m  File \u001b[1;32m\"<ipython-input-7-a29b740b2aeb>\"\u001b[1;36m, line \u001b[1;32m1\u001b[0m\n\u001b[1;33m    @full_names='sailaja,srilakshmi'\u001b[0m\n\u001b[1;37m               ^\u001b[0m\n\u001b[1;31mSyntaxError\u001b[0m\u001b[1;31m:\u001b[0m invalid syntax\n"
     ]
    }
   ],
   "source": [
    "@full_names='sailaja,srilakshmi'"
   ]
  },
  {
   "cell_type": "code",
   "execution_count": 8,
   "id": "bfc30146",
   "metadata": {},
   "outputs": [],
   "source": [
    "full_names='sailaja,srilakshmi'"
   ]
  },
  {
   "cell_type": "code",
   "execution_count": 9,
   "id": "5f02965c",
   "metadata": {},
   "outputs": [
    {
     "name": "stdout",
     "output_type": "stream",
     "text": [
      "sailaja,srilakshmi\n"
     ]
    }
   ],
   "source": [
    "print(full_names)"
   ]
  },
  {
   "cell_type": "code",
   "execution_count": null,
   "id": "b734f5c6",
   "metadata": {},
   "outputs": [],
   "source": [
    "## Add two numbers"
   ]
  },
  {
   "cell_type": "code",
   "execution_count": null,
   "id": "fe830434",
   "metadata": {},
   "outputs": [],
   "source": [
    "add a+b\n",
    "store in c"
   ]
  },
  {
   "cell_type": "code",
   "execution_count": 10,
   "id": "ca0104f6",
   "metadata": {},
   "outputs": [],
   "source": [
    "a=4\n",
    "b=5\n",
    "c=a+b"
   ]
  },
  {
   "cell_type": "code",
   "execution_count": 11,
   "id": "9870536f",
   "metadata": {},
   "outputs": [
    {
     "name": "stdout",
     "output_type": "stream",
     "text": [
      "c\n"
     ]
    }
   ],
   "source": [
    "print('c')"
   ]
  },
  {
   "cell_type": "code",
   "execution_count": 12,
   "id": "85d06e3b",
   "metadata": {},
   "outputs": [],
   "source": [
    "a=4"
   ]
  },
  {
   "cell_type": "code",
   "execution_count": 13,
   "id": "90903a80",
   "metadata": {},
   "outputs": [],
   "source": [
    "b=5"
   ]
  },
  {
   "cell_type": "code",
   "execution_count": 14,
   "id": "2e445821",
   "metadata": {},
   "outputs": [],
   "source": [
    "c=a+b"
   ]
  },
  {
   "cell_type": "code",
   "execution_count": 15,
   "id": "537231c9",
   "metadata": {},
   "outputs": [
    {
     "name": "stdout",
     "output_type": "stream",
     "text": [
      "c\n"
     ]
    }
   ],
   "source": [
    "print('c')"
   ]
  },
  {
   "cell_type": "code",
   "execution_count": null,
   "id": "0561af61",
   "metadata": {},
   "outputs": [],
   "source": []
  }
 ],
 "metadata": {
  "kernelspec": {
   "display_name": "Python 3",
   "language": "python",
   "name": "python3"
  },
  "language_info": {
   "codemirror_mode": {
    "name": "ipython",
    "version": 3
   },
   "file_extension": ".py",
   "mimetype": "text/x-python",
   "name": "python",
   "nbconvert_exporter": "python",
   "pygments_lexer": "ipython3",
   "version": "3.8.8"
  }
 },
 "nbformat": 4,
 "nbformat_minor": 5
}
